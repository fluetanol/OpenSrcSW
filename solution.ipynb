{
 "cells": [
  {
   "cell_type": "code",
   "execution_count": 94,
   "id": "d180058a",
   "metadata": {},
   "outputs": [
    {
     "name": "stdout",
     "output_type": "stream",
     "text": [
      "(1, 2)\n",
      "(3, 4)\n",
      "(4, 6)\n"
     ]
    }
   ],
   "source": [
    "#1\n",
    "\n",
    "class Point:\n",
    "    a = 0;\n",
    "    \n",
    "    def __init__(self,a,b):\n",
    "        self.a=(a,b)\n",
    "    \n",
    "    def __add__(self,other):\n",
    "        self.a= (self.a[0]+other.a[0],self.a[1]+other.a[1])\n",
    "        return self\n",
    "        \n",
    "    def show(self):\n",
    "        print(self.a)\n",
    "\n",
    "    \n",
    "    \n",
    "a=Point(1,2)\n",
    "a.show()\n",
    "\n",
    "b=Point(3,4)\n",
    "b.show()\n",
    "\n",
    "a=a+b\n",
    "a.show()"
   ]
  },
  {
   "cell_type": "code",
   "execution_count": 127,
   "id": "08e6d6d3",
   "metadata": {},
   "outputs": [
    {
     "name": "stdout",
     "output_type": "stream",
     "text": [
      "max week:  2021-05-08 ~ 2021-05-14\n"
     ]
    }
   ],
   "source": [
    "import csv\n",
    "\n",
    "\n",
    "f = open(\"seoul.csv\",'r',encoding='cp949')\n",
    "csvread = csv.reader(f)\n",
    "column = next(csvread)\n",
    "\n",
    "mintemp = column.index('최저기온(℃)')\n",
    "maxtemp = column.index('최고기온(℃)')\n",
    "\n",
    "maxval=0;\n",
    "\n",
    "startmaxdate = 0; \n",
    "endmaxdate = 0;\n",
    "startdate=0;\n",
    "enddate=0;\n",
    "\n",
    "count =0;\n",
    "diff=0;\n",
    "\n",
    "for i in csvread:\n",
    "    if count==6:\n",
    "        enddate=i[0] \n",
    "    if count==7:\n",
    "        if maxval<diff:\n",
    "            maxval=diff\n",
    "            startmaxdate=startdate\n",
    "            endmaxdate=enddate\n",
    "        diff=0;\n",
    "        count=0;\n",
    "    \n",
    "    if count==0:\n",
    "        startdate=i[0]\n",
    "    \n",
    "    diff = diff + (float(i[maxtemp])-float(i[mintemp]))\n",
    "    count+=1;\n",
    "    \n",
    "\n",
    "print(\"max week: \",startmaxdate,\"~\",endmaxdate);    "
   ]
  },
  {
   "cell_type": "code",
   "execution_count": 186,
   "id": "a359f142",
   "metadata": {},
   "outputs": [
    {
     "data": {
      "image/png": "[encoded data removed]",
      "text/plain": [
       "<Figure size 432x288 with 1 Axes>"
      ]
     },
     "metadata": {
      "needs_background": "light"
     },
     "output_type": "display_data"
    }
   ],
   "source": [
    "import numpy as np\n",
    "import matplotlib.pyplot as py\n",
    "\n",
    "Doc = np.array([[1,1,0,1,0,1],[1,1,1,0,1,0],[1,1,0,1,0,0]])\n",
    "Query = np.array([1,1,0,0,1,0])\n",
    "\n",
    "#root(각element의 제곱의 합)\n",
    "\n",
    "\n",
    "Cos1 = np.dot(Doc,Query)/(np.sqrt(np.sum(Doc)) * np.sqrt(np.sum(Query)))\n",
    "\n",
    "py.title('Cosine similarities')\n",
    "py.bar([\"doc1\",\"doc2\",\"doc3\"],Cos1)\n",
    "py.show()\n"
   ]
  },
  {
   "cell_type": "code",
   "execution_count": null,
   "id": "8212e49d",
   "metadata": {},
   "outputs": [],
   "source": []
  }
 ],
 "metadata": {
  "kernelspec": {
   "display_name": "Python 3",
   "language": "python",
   "name": "python3"
  },
  "language_info": {
   "codemirror_mode": {
    "name": "ipython",
    "version": 3
   },
   "file_extension": ".py",
   "mimetype": "text/x-python",
   "name": "python",
   "nbconvert_exporter": "python",
   "pygments_lexer": "ipython3",
   "version": "3.9.4"
  }
 },
 "nbformat": 4,
 "nbformat_minor": 5
}
