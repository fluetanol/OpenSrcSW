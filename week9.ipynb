{
 "cells": [
  {
   "cell_type": "code",
   "execution_count": 12,
   "id": "af07943e",
   "metadata": {},
   "outputs": [
    {
     "name": "stdout",
     "output_type": "stream",
     "text": [
      "x값을 입력하세요0\n",
      "3\n"
     ]
    }
   ],
   "source": [
    "x=  int(input (\"x값을 입력하세요\"))\n",
    "y=3*x**2+5*x+3\n",
    "print(y);"
   ]
  },
  {
   "cell_type": "code",
   "execution_count": 19,
   "id": "6db9ffd1",
   "metadata": {},
   "outputs": [
    {
     "name": "stdout",
     "output_type": "stream",
     "text": [
      "반지름을 입력하세요1\n",
      "둘레  6.28\n",
      "넓이  3.14\n"
     ]
    }
   ],
   "source": [
    "r = int(input(\"반지름을 입력하세요\"))\n",
    "pi = 3.14\n",
    "둘레 = 2*pi*r\n",
    "넓이 = pi*(r**2)\n",
    "\n",
    "print(\"둘레 \",둘레);\n",
    "print(\"넓이 \",넓이)"
   ]
  },
  {
   "cell_type": "code",
   "execution_count": null,
   "id": "32d3a4d8",
   "metadata": {},
   "outputs": [],
   "source": []
  },
  {
   "cell_type": "code",
   "execution_count": null,
   "id": "09400c99",
   "metadata": {},
   "outputs": [],
   "source": []
  }
 ],
 "metadata": {
  "kernelspec": {
   "display_name": "Python 3",
   "language": "python",
   "name": "python3"
  },
  "language_info": {
   "codemirror_mode": {
    "name": "ipython",
    "version": 3
   },
   "file_extension": ".py",
   "mimetype": "text/x-python",
   "name": "python",
   "nbconvert_exporter": "python",
   "pygments_lexer": "ipython3",
   "version": "3.9.4"
  }
 },
 "nbformat": 4,
 "nbformat_minor": 5
}
